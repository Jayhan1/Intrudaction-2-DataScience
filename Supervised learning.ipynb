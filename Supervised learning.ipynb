{
 "cells": [
  {
   "cell_type": "code",
   "execution_count": 2,
   "id": "bb81c0b0",
   "metadata": {},
   "outputs": [
    {
     "name": "stdout",
     "output_type": "stream",
     "text": [
      "Optimal k: 1\n",
      "Accuracy: 0.45\n",
      "F1 score: 0.5\n"
     ]
    }
   ],
   "source": [
    "# -*- coding: utf-8 -*-\n",
    "\"\"\"\n",
    "Created on Mon May 29 22:41:37 2023\n",
    "\n",
    "@author: Hp\n",
    "\"\"\"\n",
    "\n",
    "import numpy as np\n",
    "import matplotlib.pyplot as plt\n",
    "from sklearn.model_selection import train_test_split\n",
    "from sklearn.neighbors import KNeighborsClassifier\n",
    "from sklearn.model_selection import cross_val_score\n",
    "from sklearn.metrics import accuracy_score, f1_score\n",
    "\n",
    "# Generate random dataset\n",
    "np.random.seed(44)\n",
    "X = np.random.rand(200, 2)  # 200 samples with 2 features\n",
    "y = np.random.randint(0, 2, 200)  # Binary class labels (0 or 1)\n",
    "\n",
    "# Divide the dataset into training and test sets\n",
    "X_train, X_test, y_train, y_test = train_test_split(X, y, test_size=0.2, random_state=42)\n",
    "\n",
    "# Implement KNN classification\n",
    "k_values = list(range(1, 11))  # Range of k values to try\n",
    "best_accuracy = 0\n",
    "best_k = None\n",
    "\n",
    "for k in k_values:\n",
    "    knn = KNeighborsClassifier(n_neighbors=k)\n",
    "    # Perform cross-validation\n",
    "    scores = cross_val_score(knn, X_train, y_train, cv=5)\n",
    "    mean_accuracy = np.mean(scores)\n",
    "    \n",
    "    if mean_accuracy > best_accuracy:\n",
    "        best_accuracy = mean_accuracy\n",
    "        best_k = k\n",
    "\n",
    "# Train the KNN classifier with the optimal k\n",
    "knn = KNeighborsClassifier(n_neighbors=best_k)\n",
    "knn.fit(X_train, y_train)\n",
    "\n",
    "# Test the KNN classifier on the test set\n",
    "y_pred = knn.predict(X_test)\n",
    "\n",
    "# Evaluate performance using accuracy and F1 score\n",
    "accuracy = accuracy_score(y_test, y_pred)\n",
    "f1 = f1_score(y_test, y_pred)\n",
    "\n",
    "print(\"Optimal k:\", best_k)\n",
    "print(\"Accuracy:\", accuracy)\n",
    "print(\"F1 score:\", f1)\n"
   ]
  },
  {
   "cell_type": "code",
   "execution_count": 3,
   "id": "a944e9e5",
   "metadata": {},
   "outputs": [
    {
     "name": "stdout",
     "output_type": "stream",
     "text": [
      "Optimal k: 3\n",
      "Accuracy: 0.425\n",
      "F1 score: 0.37837837837837834\n"
     ]
    }
   ],
   "source": [
    "# -*- coding: utf-8 -*-\n",
    "\"\"\"\n",
    "Created on Mon May 29 22:41:37 2023\n",
    "\n",
    "@author: Hp\n",
    "\"\"\"\n",
    "\n",
    "import numpy as np\n",
    "import matplotlib.pyplot as plt\n",
    "from sklearn.model_selection import train_test_split\n",
    "from sklearn.neighbors import KNeighborsClassifier\n",
    "from sklearn.model_selection import cross_val_score\n",
    "from sklearn.metrics import accuracy_score, f1_score\n",
    "\n",
    "# Generate random dataset\n",
    "np.random.seed(42)\n",
    "X = np.random.rand(200, 2)  # 200 samples with 2 features\n",
    "y = np.random.randint(0, 2, 200)  # Binary class labels (0 or 1)\n",
    "\n",
    "# Divide the dataset into training and test sets\n",
    "X_train, X_test, y_train, y_test = train_test_split(X, y, test_size=0.2, random_state=42)\n",
    "\n",
    "# Implement KNN classification\n",
    "k_values = list(range(1, 11))  # Range of k values to try\n",
    "best_accuracy = 0\n",
    "best_k = None\n",
    "\n",
    "for k in k_values:\n",
    "    knn = KNeighborsClassifier(n_neighbors=k)\n",
    "    # Perform cross-validation\n",
    "    scores = cross_val_score(knn, X_train, y_train, cv=5)\n",
    "    mean_accuracy = np.mean(scores)\n",
    "    \n",
    "    if mean_accuracy > best_accuracy:\n",
    "        best_accuracy = mean_accuracy\n",
    "        best_k = k\n",
    "\n",
    "# Train the KNN classifier with the optimal k\n",
    "knn = KNeighborsClassifier(n_neighbors=best_k)\n",
    "knn.fit(X_train, y_train)\n",
    "\n",
    "# Test the KNN classifier on the test set\n",
    "y_pred = knn.predict(X_test)\n",
    "\n",
    "# Evaluate performance using accuracy and F1 score\n",
    "accuracy = accuracy_score(y_test, y_pred)\n",
    "f1 = f1_score(y_test, y_pred)\n",
    "\n",
    "print(\"Optimal k:\", best_k)\n",
    "print(\"Accuracy:\", accuracy)\n",
    "print(\"F1 score:\", f1)\n"
   ]
  },
  {
   "cell_type": "code",
   "execution_count": null,
   "id": "f05ff298",
   "metadata": {},
   "outputs": [],
   "source": []
  }
 ],
 "metadata": {
  "kernelspec": {
   "display_name": "Python 3 (ipykernel)",
   "language": "python",
   "name": "python3"
  },
  "language_info": {
   "codemirror_mode": {
    "name": "ipython",
    "version": 3
   },
   "file_extension": ".py",
   "mimetype": "text/x-python",
   "name": "python",
   "nbconvert_exporter": "python",
   "pygments_lexer": "ipython3",
   "version": "3.10.9"
  }
 },
 "nbformat": 4,
 "nbformat_minor": 5
}
